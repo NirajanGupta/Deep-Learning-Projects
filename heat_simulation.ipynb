{
 "cells": [
  {
   "cell_type": "code",
   "execution_count": null,
   "metadata": {},
   "outputs": [],
   "source": [
    "import deepxde as dde\n",
    "from deepxde.backend import tf\n",
    "import numpy as np\n"
   ]
  },
  {
   "cell_type": "code",
   "execution_count": null,
   "metadata": {},
   "outputs": [],
   "source": [
    "a = 0.4\n",
    "L = 1\n",
    "n = 1\n"
   ]
  },
  {
   "cell_type": "code",
   "execution_count": null,
   "metadata": {},
   "outputs": [],
   "source": [
    "geom = dde.geometry.Interval(0,L)\n",
    "timedomain = dde.geometry.TimeDomain(0,n)\n",
    "geomtime  = dde.geometry.GeometryXTime(geom, timedomain)\n",
    "\n"
   ]
  },
  {
   "cell_type": "code",
   "execution_count": null,
   "metadata": {},
   "outputs": [],
   "source": [
    "def pde(x, y):\n",
    "    dy_t = dde.grad.jacobian(y, x, i=0, j=1)\n",
    "    dy_xx = dde.grad.hessian(y, x, i=0,j = 0)\n",
    "    return dy_t - a*dy_xx "
   ]
  },
  {
   "cell_type": "code",
   "execution_count": null,
   "metadata": {},
   "outputs": [],
   "source": [
    "bc = dde.icbc.DirichletBC(geomtime, lambda x:2*x[:, 0:1],lambda _, on_)\n"
   ]
  }
 ],
 "metadata": {
  "kernelspec": {
   "display_name": "Python 3",
   "language": "python",
   "name": "python3"
  },
  "language_info": {
   "codemirror_mode": {
    "name": "ipython",
    "version": 3
   },
   "file_extension": ".py",
   "mimetype": "text/x-python",
   "name": "python",
   "nbconvert_exporter": "python",
   "pygments_lexer": "ipython3",
   "version": "3.12.0"
  }
 },
 "nbformat": 4,
 "nbformat_minor": 2
}
