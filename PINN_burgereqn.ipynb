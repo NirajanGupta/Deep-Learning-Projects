{
 "cells": [
  {
   "cell_type": "code",
   "execution_count": 1,
   "metadata": {},
   "outputs": [],
   "source": [
    "import math\n",
    "import numpy as np\n",
    "import seaborn as sns\n",
    "import matplotlib.pyplot as plt\n",
    "from collections import OrderedDict\n",
    "from tqdm import tqdm\n",
    "import torch\n",
    "import torch.nn as nn\n",
    "\n"
   ]
  },
  {
   "cell_type": "code",
   "execution_count": 2,
   "metadata": {},
   "outputs": [],
   "source": [
    "#Multi-Layer Perception\n",
    "\n",
    "class NN(nn.Module):\n",
    "    def __init__(\n",
    "        self,\n",
    "        input_size,\n",
    "        hidden_size,\n",
    "        output_size,\n",
    "        depth,\n",
    "        act=torch.nn.Tanh,\n",
    "    ):\n",
    "        super(NN,self).__init__()\n",
    "\n",
    "        layers = [('input', torch.nn.Linear(input_size, hidden_size))]\n",
    "        layers.append(('input_activation', act()))\n",
    "        for i in range(depth):\n",
    "            layers.append(\n",
    "                ('hidden_%d' % i, torch.nn.Linear(hidden_size, hidden_size))\n",
    "            )\n",
    "            layers.append(('activation_%d' % i, act()))\n",
    "        layers.append(('output', torch.nn.Linear(hidden_size, output_size)))\n",
    "\n",
    "        layerDict = OrderedDict(layers)\n",
    "        self.layers = torch.nn.Sequential(layerDict)\n",
    "\n",
    "    def forward(self, x):\n",
    "        out = self.layers(x)\n",
    "        return out\n",
    "    \n"
   ]
  },
  {
   "cell_type": "code",
   "execution_count": 12,
   "metadata": {},
   "outputs": [],
   "source": [
    "class Net:\n",
    "    def __init__(self):\n",
    "        device = torch.device(\"cuda\") if torch.cuda.is_available() else torch.device(\"cpu\")\n",
    "    \n",
    "        \n",
    "        \n",
    "\n",
    "        self.model = NN(\n",
    "            input_size=2,\n",
    "            hidden_size=20,\n",
    "            output_size=1,\n",
    "            depth = 4,\n",
    "            act=torch.nn.Tanh\n",
    "        ).to(device)\n",
    "\n",
    "        self.h = 0.1\n",
    "        self.k = 0.1\n",
    "\n",
    "        x = torch.arange(-1,1+self.h, self.h)\n",
    "        t = torch.arange(0,1+self.k, self.k)\n",
    "\n",
    "        #exact solution\n",
    "        self.X =torch.stack(torch.meshgrid(x, t)).reshape(2,-1).T\n",
    "\n",
    "        #training data\n",
    "\n",
    "        bc1 = torch.stack(torch.meshgrid(x[0],t)).reshape(2,-1).T\n",
    "        bc2 = torch.stack(torch.meshgrid(x[-1],t)).reshape(2,-1).T\n",
    "        ic  = torch.stack(torch.meshgrid(x,t[0])).reshape(2,-1).T\n",
    "        self.X_train = torch.cat([bc1, bc2, ic])\n",
    "        y_bc1 = torch.zeros(len(bc1))\n",
    "        y_bc2 = torch.zeros(len(bc2))\n",
    "        y_ic = -torch.sin(math.pi * ic[:, 0])\n",
    "        self.y_train = torch.cat([y_bc1, y_bc2, y_ic])\n",
    "        self.y_train = self.y_train.unsqueeze(1)\n",
    "\n",
    "        self.X = self.X.to(device)\n",
    "        self.X_train = self.X_train.to(device)\n",
    "        self.y_train = self.y_train.to(device)\n",
    "        self.X.requires_grad = True\n",
    "\n",
    "        self.criterion = torch.nn.MSELoss()\n",
    "        self.iter = 1\n",
    "\n",
    "\n",
    "        self.optimizer = torch.optim.LBFGS(\n",
    "            self.model.parameters(),\n",
    "            lr=1.0, \n",
    "            max_iter=50000,\n",
    "            max_eval=50000,\n",
    "            history_size=50,\n",
    "            tolerance_grad=1e-07,\n",
    "            tolerance_change=1.0*np.finfo(float).eps,\n",
    "            line_search_fn=\"strong_wolfe\", #for better numerical stability\n",
    "\n",
    "        )\n",
    "       \n",
    "        self.adam = torch.optim.Adam(self.model.parameters())\n",
    "\n",
    "\n",
    "    def loss_func(self):\n",
    "        #this is more like a not so elegant hack to zero grad both optimizers\n",
    "        self.adam.zero_grad()\n",
    "        self.optimizer.zero_grad()\n",
    "\n",
    "\n",
    "        y_pred = self.model(self.X_train)\n",
    "        loss_data = self.criterion(y_pred, self.y_train)\n",
    "        u = self.model(self.X)\n",
    "\n",
    "        du_dX = torch.autograd.grad(\n",
    "            inputs=self.X,\n",
    "            outputs=u,\n",
    "            grad_outputs=torch.ones_like(u),\n",
    "            retain_graph=True,\n",
    "            create_graph=True,\n",
    "        )[0]\n",
    "\n",
    "        du_dt = du_dX[:,1]\n",
    "        du_dx = du_dX[:,0]\n",
    "        du_dxx = torch.autograd.grad(\n",
    "            inputs=self.X,\n",
    "            outputs=du_dx,\n",
    "            grad_outputs=torch.ones_like(du_dx),\n",
    "            retain_graph=True,\n",
    "            create_graph=True,\n",
    "        )[0][:,0]\n",
    "\n",
    "\n",
    "        loss_pde = self.criterion(du_dt+u.squeeze()*du_dx,0.01/math.pi*du_dxx)\n",
    "        loss = loss_data + loss_pde\n",
    "        loss.backward()\n",
    "        if self.iter % 100 ==0:\n",
    "            print(self.iter,loss.item())\n",
    "        self.iter = self.iter + 1\n",
    "        return loss\n",
    "\n",
    "\n",
    "    def train(self):\n",
    "        self.model.train()\n",
    "        for i in range(1000):\n",
    "            self.adam.step(self.loss_func)\n",
    "        self.optimizer.step(self.loss_func)\n",
    "\n",
    "    \n",
    "    def eval_(self):\n",
    "        self.model.eval()\n",
    "        \n",
    "        "
   ]
  },
  {
   "cell_type": "code",
   "execution_count": 11,
   "metadata": {},
   "outputs": [
    {
     "name": "stdout",
     "output_type": "stream",
     "text": [
      "cuda\n"
     ]
    }
   ],
   "source": [
    "#device configuration\n",
    "device = torch.device('cuda' if torch.cuda.is_available() else 'cpu')\n",
    "\n",
    "print(device)\n",
    "\n",
    "if device == 'cuda':\n",
    "    print(torch.cuda.get_device_name())"
   ]
  },
  {
   "cell_type": "markdown",
   "metadata": {},
   "source": [
    "Training"
   ]
  },
  {
   "cell_type": "code",
   "execution_count": 6,
   "metadata": {},
   "outputs": [
    {
     "name": "stderr",
     "output_type": "stream",
     "text": [
      "c:\\Users\\Nirajan\\AppData\\Local\\Programs\\Python\\Python312\\Lib\\site-packages\\torch\\functional.py:512: UserWarning: torch.meshgrid: in an upcoming release, it will be required to pass the indexing argument. (Triggered internally at ..\\aten\\src\\ATen\\native\\TensorShape.cpp:3588.)\n",
      "  return _VF.meshgrid(tensors, **kwargs)  # type: ignore[attr-defined]\n",
      "c:\\Users\\Nirajan\\AppData\\Local\\Programs\\Python\\Python312\\Lib\\site-packages\\torch\\autograd\\graph.py:744: UserWarning: Attempting to run cuBLAS, but there was no current CUDA context! Attempting to set the primary context... (Triggered internally at ..\\aten\\src\\ATen\\cuda\\CublasHandlePool.cpp:135.)\n",
      "  return Variable._execution_engine.run_backward(  # Calls into the C++ engine to run the backward pass\n"
     ]
    },
    {
     "name": "stdout",
     "output_type": "stream",
     "text": [
      "100 0.1885661482810974\n",
      "200 0.10425785183906555\n",
      "300 0.08106683939695358\n",
      "400 0.064224973320961\n",
      "500 0.03847046568989754\n",
      "600 0.02881000190973282\n",
      "700 0.02101082168519497\n",
      "800 0.01696411892771721\n",
      "900 0.022118568420410156\n",
      "1000 0.016426829621195793\n",
      "1100 0.008674371987581253\n",
      "1200 0.005421025212854147\n",
      "1300 0.0035005821846425533\n",
      "1400 0.002244343049824238\n",
      "1500 0.0016154111362993717\n",
      "1600 0.0021095413248986006\n",
      "1700 0.0009365954902023077\n",
      "1800 0.0008011360769160092\n",
      "1900 0.0007112122257240117\n",
      "2000 0.0005936420056968927\n",
      "2100 0.0004319277941249311\n",
      "2200 0.0003720832464750856\n",
      "2300 0.00031983290682546794\n",
      "2400 0.00026205647736787796\n",
      "2500 0.00020660157315433025\n",
      "2600 0.00017626343469601125\n",
      "2700 0.00015397384413518012\n",
      "2800 0.00014007643039803952\n",
      "2900 0.00012318183144088835\n",
      "3000 0.00010788799409056082\n",
      "3100 9.767746814759448e-05\n",
      "3200 7.945445395307615e-05\n",
      "3300 7.166417344706133e-05\n"
     ]
    }
   ],
   "source": [
    "net = Net()\n",
    "net.train()"
   ]
  },
  {
   "cell_type": "markdown",
   "metadata": {},
   "source": [
    "Evaluation"
   ]
  },
  {
   "cell_type": "code",
   "execution_count": null,
   "metadata": {},
   "outputs": [],
   "source": [
    "#net.eval_()\n",
    "net.model.eval()\n",
    "h = 0.01\n",
    "k = 0.01\n",
    "x = torch.arange(-1,1,h)\n",
    "t = torch.arange(0,1,k)\n",
    "\n",
    "#exact solution\n",
    "\n",
    "X = torch.stack(torch.meshgrid(x, t)).reshape(2,-1).T\n",
    "X = X.to(net.X.device)\n",
    "\n",
    "model = net.model\n",
    "model.eval()\n",
    "with torch.no_grad():\n",
    "    y_pred = model(X).reshape(len(x), len(t)).cpu().numpy()\n",
    "\n",
    "\n"
   ]
  },
  {
   "cell_type": "code",
   "execution_count": null,
   "metadata": {},
   "outputs": [
    {
     "data": {
      "text/plain": [
       "<Figure size 15000x9000 with 0 Axes>"
      ]
     },
     "execution_count": 37,
     "metadata": {},
     "output_type": "execute_result"
    },
    {
     "data": {
      "text/plain": [
       "<Figure size 15000x9000 with 0 Axes>"
      ]
     },
     "metadata": {},
     "output_type": "display_data"
    }
   ],
   "source": [
    "sns.set_style(\"white\")\n",
    "\n",
    "plt.figure(figsize = (5,3),dpi = 3000)\n"
   ]
  },
  {
   "cell_type": "code",
   "execution_count": null,
   "metadata": {},
   "outputs": [
    {
     "data": {
      "text/plain": [
       "array([[ 0.00068261,  0.00055491,  0.00048887, ...,  0.00025671,\n",
       "         0.00023591,  0.00021376],\n",
       "       [ 0.03197994,  0.03095072,  0.03003313, ...,  0.00806292,\n",
       "         0.00798311,  0.00790291],\n",
       "       [ 0.06319945,  0.06126916,  0.05950015, ...,  0.01586648,\n",
       "         0.01572805,  0.01559021],\n",
       "       ...,\n",
       "       [-0.09265298, -0.08988587, -0.08734689, ..., -0.02348719,\n",
       "        -0.02329133, -0.02309481],\n",
       "       [-0.06230328, -0.06042392, -0.058731  , ..., -0.01556049,\n",
       "        -0.01541672, -0.01527224],\n",
       "       [-0.03190822, -0.03092322, -0.0300794 , ..., -0.00760827,\n",
       "        -0.0075169 , -0.00742362]], dtype=float32)"
      ]
     },
     "execution_count": 38,
     "metadata": {},
     "output_type": "execute_result"
    }
   ],
   "source": [
    "y_pred"
   ]
  },
  {
   "cell_type": "code",
   "execution_count": null,
   "metadata": {},
   "outputs": [
    {
     "data": {
      "text/plain": [
       "<Axes: >"
      ]
     },
     "execution_count": 39,
     "metadata": {},
     "output_type": "execute_result"
    },
    {
     "data": {
      "image/png": "[encoded data removed]",
      "text/plain": [
       "<Figure size 640x480 with 2 Axes>"
      ]
     },
     "metadata": {},
     "output_type": "display_data"
    }
   ],
   "source": [
    "sns.heatmap(y_pred,cmap='jet')"
   ]
  }
 ],
 "metadata": {
  "kernelspec": {
   "display_name": "Python 3",
   "language": "python",
   "name": "python3"
  },
  "language_info": {
   "codemirror_mode": {
    "name": "ipython",
    "version": 3
   },
   "file_extension": ".py",
   "mimetype": "text/x-python",
   "name": "python",
   "nbconvert_exporter": "python",
   "pygments_lexer": "ipython3",
   "version": "3.12.0"
  }
 },
 "nbformat": 4,
 "nbformat_minor": 2
}
